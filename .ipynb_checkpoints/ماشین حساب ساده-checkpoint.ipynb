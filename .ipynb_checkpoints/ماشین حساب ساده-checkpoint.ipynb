{
 "cells": [
  {
   "cell_type": "code",
   "execution_count": 11,
   "id": "unknown-craft",
   "metadata": {},
   "outputs": [],
   "source": [
    "import math \n",
    "\n",
    "def compute(num1, num2, c):\n",
    "    #num1 is the first number\n",
    "    #num2 is the second number\n",
    "    # c is the number of symbol\n",
    "    #1 is +\n",
    "    #2 is -\n",
    "    #3 is *\n",
    "    #4 is /\n",
    "    #5 is √\n",
    "    #6 is ^\n",
    "    if c == 1 :\n",
    "        result = num1 + num2\n",
    "    elif c == 2 :\n",
    "        result = num1 - num2\n",
    "    elif c == 3 :\n",
    "        result = num1 * num2\n",
    "    elif c == 4 : \n",
    "        result = num1 / num2\n",
    "    elif c == 5 :\n",
    "        result = num1 ** (1/num2)\n",
    "    elif c == 6 :\n",
    "        result = num1 ** num2\n",
    "    \n",
    "    return result\n",
    "\n"
   ]
  },
  {
   "cell_type": "code",
   "execution_count": 13,
   "id": "sporting-simple",
   "metadata": {},
   "outputs": [
    {
     "data": {
      "text/plain": [
       "2.0"
      ]
     },
     "execution_count": 13,
     "metadata": {},
     "output_type": "execute_result"
    }
   ],
   "source": [
    "compute(4, 2, 5)"
   ]
  },
  {
   "cell_type": "code",
   "execution_count": null,
   "id": "tender-possible",
   "metadata": {},
   "outputs": [],
   "source": []
  }
 ],
 "metadata": {
  "kernelspec": {
   "display_name": "Python 3.7 (tensorflow)",
   "language": "python",
   "name": "tensorflow"
  },
  "language_info": {
   "codemirror_mode": {
    "name": "ipython",
    "version": 3
   },
   "file_extension": ".py",
   "mimetype": "text/x-python",
   "name": "python",
   "nbconvert_exporter": "python",
   "pygments_lexer": "ipython3",
   "version": "3.7.10"
  }
 },
 "nbformat": 4,
 "nbformat_minor": 5
}
