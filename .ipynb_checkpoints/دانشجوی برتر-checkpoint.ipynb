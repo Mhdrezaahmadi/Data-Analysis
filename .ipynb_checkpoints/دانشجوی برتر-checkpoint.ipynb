{
 "cells": [
  {
   "cell_type": "code",
   "execution_count": 1,
   "id": "substantial-software",
   "metadata": {},
   "outputs": [
    {
     "name": "stdout",
     "output_type": "stream",
     "text": [
      "Average of my_list is 6.0\n"
     ]
    }
   ],
   "source": [
    "def Average(l): \n",
    "    avg = sum(l) / len(l) \n",
    "    return avg\n",
    "  \n",
    "my_list = [2,4,6,8,10] \n",
    "average = Average(my_list) \n",
    "  \n",
    "print(\"Average of my_list is\", average)"
   ]
  },
  {
   "cell_type": "code",
   "execution_count": 2,
   "id": "sustainable-plant",
   "metadata": {},
   "outputs": [
    {
     "name": "stdout",
     "output_type": "stream",
     "text": [
      "[38.25, 68.75, 50.25, 49.25]\n"
     ]
    }
   ],
   "source": [
    "Subjects = {'sub1': ['ahmad', 'mahmood', 'hossein'],\n",
    "            'sub2': ['yavar', 'mina', 'ali'],\n",
    "            'sub3' : ['reyhan', 'hamed', 'taha']}\n",
    "\n",
    "\n",
    "\n",
    "\n",
    "\n",
    "\n",
    "def solve(scores):\n",
    "    avg_scores = dict()\n",
    "    for name in scores:\n",
    "        avg_scores[name] = sum(scores[name])/len(scores[name])\n",
    "\n",
    "    return list(avg_scores.values())\n",
    "\n",
    "scores = {'Amal' : [25,36,47,45],'Bimal' : [85,74,69,47],'Tarun' : [65,35,87,14],'Akash' : [74,12,36,75]}\n",
    "print(solve(scores))"
   ]
  },
  {
   "cell_type": "code",
   "execution_count": 10,
   "id": "amino-alert",
   "metadata": {},
   "outputs": [
    {
     "ename": "SyntaxError",
     "evalue": "invalid syntax (<ipython-input-10-dbb6a82150e2>, line 73)",
     "output_type": "error",
     "traceback": [
      "\u001b[1;36m  File \u001b[1;32m\"<ipython-input-10-dbb6a82150e2>\"\u001b[1;36m, line \u001b[1;32m73\u001b[0m\n\u001b[1;33m    print()\u001b[0m\n\u001b[1;37m        ^\u001b[0m\n\u001b[1;31mSyntaxError\u001b[0m\u001b[1;31m:\u001b[0m invalid syntax\n"
     ]
    }
   ],
   "source": [
    "class Student(object):\n",
    "    def __init__(self, name):\n",
    "        self.name, self.grades = name, []\n",
    "\n",
    "    def append_grade(self, grade):\n",
    "        self.grades.append(grade)\n",
    "\n",
    "    def average(self):\n",
    "        return sum(self.grades) / len(self.grades)\n",
    "\n",
    "\n",
    "\n",
    "def main():\n",
    "    print()\n",
    "    print('Collecting class student information')\n",
    "    a_class = []  # \"class\" by itself is a reserved word in Python, avoid using\n",
    "    b_class = []\n",
    "    c_class = []\n",
    "    while True:\n",
    "        print()\n",
    "        print('{} students in class so far in a_class'.format(len(a_class)))\n",
    "        print('{} students in class so far in b_class'.format(len(b_class)))\n",
    "        print('{} students in class so far in c_class'.format(len(c_class)))\n",
    "    \n",
    "        another_student = input('Do you have another student to enter (y/n) ? ')\n",
    "        if another_student[0].lower() != 'y':\n",
    "            break\n",
    "        print()\n",
    "        student_name = input('What is the student\\'s name? ')\n",
    "        student_class = input('What is his/her class? ')\n",
    "        if student_class == 'a':\n",
    "            a_class.append(Student(student_name))\n",
    "        elif student_class =='b':\n",
    "            b_class.append(Student(student_name))\n",
    "        elif student_class == 'c':\n",
    "            c_class.append(Student(student_name))\n",
    "        print()\n",
    "        print('student, class :', student_name, student_class)\n",
    "        print('-------------------')\n",
    "        number_of_tests = int(input('Please enter the number of tests : '))\n",
    "        for test_num in range(1, number_of_tests+1):\n",
    "            print('test number {}'.format(test_num), end='')\n",
    "            score = float(input(' : '))\n",
    "            if score < 0:  # stop early?\n",
    "                break\n",
    "            if student_class == 'a':\n",
    "                a_class[-1].append_grade(score) # append to last student added\n",
    "            elif student_class == 'b':\n",
    "                b_class[-1].append_grade(score) # append to last student added\n",
    "            elif student_class == 'c':\n",
    "                c_class[-1].append_grade(score) # append to last student added\n",
    "    print_report(a_class)\n",
    "\n",
    "\n",
    "def print_report(a_class):\n",
    "    print()\n",
    "    print('Class Report')\n",
    "    print()\n",
    "    for student in sorted(a_class, key=lambda s: s.name):\n",
    "        print('student: {:20s} average test score: {:3.2f}  grade: {}'.format(\n",
    "            student.name, student.average))\n",
    "    print()\n",
    "    print('The a_class average is {:.2f}'.format(class_average(a_class)))\n",
    "    \n",
    "    for student in sorted(b_class, key=lambda s: s.name):\n",
    "        print('student: {:20s} average test score: {:3.2f}  grade: {}'.format(\n",
    "            student.name, student.average))\n",
    "    print()\n",
    "    print('The b_class average is {:.2f}'.format(class_average(b_class)))\n",
    "    for student in sorted(c_class, key=lambda s: s.name):\n",
    "        print('student: {:20s} average test score: {:3.2f}  grade: {}'.format(\n",
    "            student.name, student.average)\n",
    "    print()\n",
    "    print('The c_class average is {:.2f}'.format(class_average(c_class)))\n",
    "\n",
    "def class_average(a_class):\n",
    "    return sum(student.average() for student in a_class) / len(a_class)\n",
    "def class_average(b_class):\n",
    "    return sum(student.average() for student in b_class) / len(b_class)\n",
    "def class_average(c_class):\n",
    "    return sum(student.average() for student in c_class) / len(c_class)\n",
    "\n",
    "main()"
   ]
  },
  {
   "cell_type": "code",
   "execution_count": null,
   "id": "random-deputy",
   "metadata": {},
   "outputs": [],
   "source": []
  }
 ],
 "metadata": {
  "kernelspec": {
   "display_name": "Python 3.7 (tensorflow)",
   "language": "python",
   "name": "tensorflow"
  },
  "language_info": {
   "codemirror_mode": {
    "name": "ipython",
    "version": 3
   },
   "file_extension": ".py",
   "mimetype": "text/x-python",
   "name": "python",
   "nbconvert_exporter": "python",
   "pygments_lexer": "ipython3",
   "version": "3.7.10"
  }
 },
 "nbformat": 4,
 "nbformat_minor": 5
}
